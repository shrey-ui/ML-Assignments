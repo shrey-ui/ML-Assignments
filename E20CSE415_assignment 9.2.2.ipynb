{
 "cells": [
  {
   "cell_type": "markdown",
   "id": "0bb6c70f",
   "metadata": {},
   "source": [
    "# Shreyans Murkute- E20CSE415"
   ]
  },
  {
   "cell_type": "markdown",
   "id": "b8dcc890",
   "metadata": {},
   "source": [
    "### Assignment 9.2.2"
   ]
  },
  {
   "cell_type": "code",
   "execution_count": 1,
   "id": "d5df6619",
   "metadata": {},
   "outputs": [],
   "source": [
    "import pandas as pd"
   ]
  },
  {
   "cell_type": "code",
   "execution_count": 6,
   "id": "75b2d2c8",
   "metadata": {},
   "outputs": [],
   "source": [
    "df= pd.read_csv('bank_churn.csv')"
   ]
  },
  {
   "cell_type": "code",
   "execution_count": 11,
   "id": "bc2af226",
   "metadata": {},
   "outputs": [],
   "source": [
    "df= df.iloc[:, 1:]"
   ]
  },
  {
   "cell_type": "code",
   "execution_count": 13,
   "id": "33c80dc9",
   "metadata": {},
   "outputs": [
    {
     "data": {
      "text/plain": [
       "(10000, 11)"
      ]
     },
     "execution_count": 13,
     "metadata": {},
     "output_type": "execute_result"
    }
   ],
   "source": [
    "df.shape"
   ]
  },
  {
   "cell_type": "code",
   "execution_count": 14,
   "id": "fc0c6533",
   "metadata": {},
   "outputs": [
    {
     "data": {
      "text/html": [
       "<div>\n",
       "<style scoped>\n",
       "    .dataframe tbody tr th:only-of-type {\n",
       "        vertical-align: middle;\n",
       "    }\n",
       "\n",
       "    .dataframe tbody tr th {\n",
       "        vertical-align: top;\n",
       "    }\n",
       "\n",
       "    .dataframe thead th {\n",
       "        text-align: right;\n",
       "    }\n",
       "</style>\n",
       "<table border=\"1\" class=\"dataframe\">\n",
       "  <thead>\n",
       "    <tr style=\"text-align: right;\">\n",
       "      <th></th>\n",
       "      <th>credit_score</th>\n",
       "      <th>country</th>\n",
       "      <th>gender</th>\n",
       "      <th>age</th>\n",
       "      <th>tenure</th>\n",
       "      <th>balance</th>\n",
       "      <th>products_number</th>\n",
       "      <th>credit_card</th>\n",
       "      <th>active_member</th>\n",
       "      <th>estimated_salary</th>\n",
       "      <th>churn</th>\n",
       "    </tr>\n",
       "  </thead>\n",
       "  <tbody>\n",
       "    <tr>\n",
       "      <th>0</th>\n",
       "      <td>619</td>\n",
       "      <td>France</td>\n",
       "      <td>Female</td>\n",
       "      <td>42</td>\n",
       "      <td>2</td>\n",
       "      <td>0.00</td>\n",
       "      <td>1</td>\n",
       "      <td>1</td>\n",
       "      <td>1</td>\n",
       "      <td>101348.88</td>\n",
       "      <td>1</td>\n",
       "    </tr>\n",
       "    <tr>\n",
       "      <th>1</th>\n",
       "      <td>608</td>\n",
       "      <td>Spain</td>\n",
       "      <td>Female</td>\n",
       "      <td>41</td>\n",
       "      <td>1</td>\n",
       "      <td>83807.86</td>\n",
       "      <td>1</td>\n",
       "      <td>0</td>\n",
       "      <td>1</td>\n",
       "      <td>112542.58</td>\n",
       "      <td>0</td>\n",
       "    </tr>\n",
       "    <tr>\n",
       "      <th>2</th>\n",
       "      <td>502</td>\n",
       "      <td>France</td>\n",
       "      <td>Female</td>\n",
       "      <td>42</td>\n",
       "      <td>8</td>\n",
       "      <td>159660.80</td>\n",
       "      <td>3</td>\n",
       "      <td>1</td>\n",
       "      <td>0</td>\n",
       "      <td>113931.57</td>\n",
       "      <td>1</td>\n",
       "    </tr>\n",
       "    <tr>\n",
       "      <th>3</th>\n",
       "      <td>699</td>\n",
       "      <td>France</td>\n",
       "      <td>Female</td>\n",
       "      <td>39</td>\n",
       "      <td>1</td>\n",
       "      <td>0.00</td>\n",
       "      <td>2</td>\n",
       "      <td>0</td>\n",
       "      <td>0</td>\n",
       "      <td>93826.63</td>\n",
       "      <td>0</td>\n",
       "    </tr>\n",
       "    <tr>\n",
       "      <th>4</th>\n",
       "      <td>850</td>\n",
       "      <td>Spain</td>\n",
       "      <td>Female</td>\n",
       "      <td>43</td>\n",
       "      <td>2</td>\n",
       "      <td>125510.82</td>\n",
       "      <td>1</td>\n",
       "      <td>1</td>\n",
       "      <td>1</td>\n",
       "      <td>79084.10</td>\n",
       "      <td>0</td>\n",
       "    </tr>\n",
       "    <tr>\n",
       "      <th>5</th>\n",
       "      <td>645</td>\n",
       "      <td>Spain</td>\n",
       "      <td>Male</td>\n",
       "      <td>44</td>\n",
       "      <td>8</td>\n",
       "      <td>113755.78</td>\n",
       "      <td>2</td>\n",
       "      <td>1</td>\n",
       "      <td>0</td>\n",
       "      <td>149756.71</td>\n",
       "      <td>1</td>\n",
       "    </tr>\n",
       "    <tr>\n",
       "      <th>6</th>\n",
       "      <td>822</td>\n",
       "      <td>France</td>\n",
       "      <td>Male</td>\n",
       "      <td>50</td>\n",
       "      <td>7</td>\n",
       "      <td>0.00</td>\n",
       "      <td>2</td>\n",
       "      <td>1</td>\n",
       "      <td>1</td>\n",
       "      <td>10062.80</td>\n",
       "      <td>0</td>\n",
       "    </tr>\n",
       "    <tr>\n",
       "      <th>7</th>\n",
       "      <td>376</td>\n",
       "      <td>Germany</td>\n",
       "      <td>Female</td>\n",
       "      <td>29</td>\n",
       "      <td>4</td>\n",
       "      <td>115046.74</td>\n",
       "      <td>4</td>\n",
       "      <td>1</td>\n",
       "      <td>0</td>\n",
       "      <td>119346.88</td>\n",
       "      <td>1</td>\n",
       "    </tr>\n",
       "    <tr>\n",
       "      <th>8</th>\n",
       "      <td>501</td>\n",
       "      <td>France</td>\n",
       "      <td>Male</td>\n",
       "      <td>44</td>\n",
       "      <td>4</td>\n",
       "      <td>142051.07</td>\n",
       "      <td>2</td>\n",
       "      <td>0</td>\n",
       "      <td>1</td>\n",
       "      <td>74940.50</td>\n",
       "      <td>0</td>\n",
       "    </tr>\n",
       "    <tr>\n",
       "      <th>9</th>\n",
       "      <td>684</td>\n",
       "      <td>France</td>\n",
       "      <td>Male</td>\n",
       "      <td>27</td>\n",
       "      <td>2</td>\n",
       "      <td>134603.88</td>\n",
       "      <td>1</td>\n",
       "      <td>1</td>\n",
       "      <td>1</td>\n",
       "      <td>71725.73</td>\n",
       "      <td>0</td>\n",
       "    </tr>\n",
       "  </tbody>\n",
       "</table>\n",
       "</div>"
      ],
      "text/plain": [
       "   credit_score  country  gender  age  tenure    balance  products_number  \\\n",
       "0           619   France  Female   42       2       0.00                1   \n",
       "1           608    Spain  Female   41       1   83807.86                1   \n",
       "2           502   France  Female   42       8  159660.80                3   \n",
       "3           699   France  Female   39       1       0.00                2   \n",
       "4           850    Spain  Female   43       2  125510.82                1   \n",
       "5           645    Spain    Male   44       8  113755.78                2   \n",
       "6           822   France    Male   50       7       0.00                2   \n",
       "7           376  Germany  Female   29       4  115046.74                4   \n",
       "8           501   France    Male   44       4  142051.07                2   \n",
       "9           684   France    Male   27       2  134603.88                1   \n",
       "\n",
       "   credit_card  active_member  estimated_salary  churn  \n",
       "0            1              1         101348.88      1  \n",
       "1            0              1         112542.58      0  \n",
       "2            1              0         113931.57      1  \n",
       "3            0              0          93826.63      0  \n",
       "4            1              1          79084.10      0  \n",
       "5            1              0         149756.71      1  \n",
       "6            1              1          10062.80      0  \n",
       "7            1              0         119346.88      1  \n",
       "8            0              1          74940.50      0  \n",
       "9            1              1          71725.73      0  "
      ]
     },
     "execution_count": 14,
     "metadata": {},
     "output_type": "execute_result"
    }
   ],
   "source": [
    "df.head(10)"
   ]
  },
  {
   "cell_type": "code",
   "execution_count": 15,
   "id": "fbfad5e7",
   "metadata": {},
   "outputs": [
    {
     "name": "stdout",
     "output_type": "stream",
     "text": [
      "List Of Columns ['credit_score', 'country', 'gender', 'age', 'tenure', 'balance', 'products_number', 'credit_card', 'active_member', 'estimated_salary', 'churn']\n"
     ]
    }
   ],
   "source": [
    "print(\"List Of Columns\", list(df.columns))"
   ]
  },
  {
   "cell_type": "code",
   "execution_count": 16,
   "id": "0b6acb9c",
   "metadata": {},
   "outputs": [
    {
     "data": {
      "text/plain": [
       "credit_score        0\n",
       "country             0\n",
       "gender              0\n",
       "age                 0\n",
       "tenure              0\n",
       "balance             0\n",
       "products_number     0\n",
       "credit_card         0\n",
       "active_member       0\n",
       "estimated_salary    0\n",
       "churn               0\n",
       "dtype: int64"
      ]
     },
     "execution_count": 16,
     "metadata": {},
     "output_type": "execute_result"
    }
   ],
   "source": [
    "df.isnull().sum()"
   ]
  },
  {
   "cell_type": "code",
   "execution_count": 18,
   "id": "d98bfa7a",
   "metadata": {},
   "outputs": [],
   "source": [
    "from sklearn.preprocessing import LabelEncoder\n",
    "lab_enc= LabelEncoder()"
   ]
  },
  {
   "cell_type": "code",
   "execution_count": 20,
   "id": "144d2592",
   "metadata": {},
   "outputs": [
    {
     "name": "stdout",
     "output_type": "stream",
     "text": [
      "credit_score          int64\n",
      "country              object\n",
      "gender               object\n",
      "age                   int64\n",
      "tenure                int64\n",
      "balance             float64\n",
      "products_number       int64\n",
      "credit_card           int64\n",
      "active_member         int64\n",
      "estimated_salary    float64\n",
      "churn                 int64\n",
      "dtype: object\n"
     ]
    }
   ],
   "source": [
    "print(df.dtypes)\n",
    "#Country and Gender are Categorical"
   ]
  },
  {
   "cell_type": "code",
   "execution_count": 30,
   "id": "623f7bac",
   "metadata": {},
   "outputs": [],
   "source": [
    "from sklearn.preprocessing import MinMaxScaler\n",
    "X= df.iloc[:, :-1]\n",
    "y= df.iloc[:, -1]\n",
    "import numpy as np\n",
    "mm_scaler= MinMaxScaler()\n",
    "for k in X.columns:\n",
    "    if X[k].dtype== 'object':\n",
    "        X[k]= lab_enc.fit_transform(np.array(X[k]).reshape(-1, 1))\n",
    "    else:\n",
    "        X[k]= mm_scaler.fit_transform(np.array(X[k]).reshape(-1, 1))"
   ]
  },
  {
   "cell_type": "code",
   "execution_count": 32,
   "id": "fa789ed5",
   "metadata": {},
   "outputs": [],
   "source": [
    "from sklearn.model_selection import train_test_split\n",
    "Xtrain, xtest, Ytrain, ytest= train_test_split(X, y, test_size= 0.2)"
   ]
  },
  {
   "cell_type": "code",
   "execution_count": 33,
   "id": "4fd9e3fc",
   "metadata": {},
   "outputs": [
    {
     "data": {
      "text/plain": [
       "GradientBoostingClassifier()"
      ]
     },
     "execution_count": 33,
     "metadata": {},
     "output_type": "execute_result"
    }
   ],
   "source": [
    "from sklearn.ensemble import GradientBoostingClassifier\n",
    "grad_boost= GradientBoostingClassifier()\n",
    "grad_boost.fit(Xtrain, Ytrain)"
   ]
  },
  {
   "cell_type": "code",
   "execution_count": 65,
   "id": "943d7d2a",
   "metadata": {},
   "outputs": [
    {
     "name": "stdout",
     "output_type": "stream",
     "text": [
      "For Learning Rate:  0.05\n",
      "0.8575\n",
      "[[1556  247]\n",
      " [  38  159]]\n",
      "(array([0.9761606 , 0.39162562]), array([0.8630061, 0.8071066]), array([0.91610244, 0.52736318]), array([1803,  197], dtype=int64))\n",
      "AUC Score 0.8503238746283786\n",
      "\n",
      "\n",
      "\n",
      "For Learning Rate:  0.1\n",
      "0.865\n",
      "[[1553  229]\n",
      " [  41  177]]\n",
      "(array([0.97427854, 0.43596059]), array([0.8714927 , 0.81192661]), array([0.9200237 , 0.56730769]), array([1782,  218], dtype=int64))\n",
      "AUC Score 0.8539064286641408\n",
      "\n",
      "\n",
      "\n",
      "For Learning Rate:  0.25\n",
      "0.863\n",
      "[[1542  222]\n",
      " [  52  184]]\n",
      "(array([0.96737767, 0.45320197]), array([0.87414966, 0.77966102]), array([0.91840381, 0.57320872]), array([1764,  236], dtype=int64))\n",
      "AUC Score 0.8496903412427145\n",
      "\n",
      "\n",
      "\n",
      "For Learning Rate:  0.5\n",
      "0.8575\n",
      "[[1519  210]\n",
      " [  75  196]]\n",
      "(array([0.95294856, 0.48275862]), array([0.87854251, 0.72324723]), array([0.91423413, 0.57902511]), array([1729,  271], dtype=int64))\n",
      "AUC Score 0.848511351064027\n",
      "\n",
      "\n",
      "\n",
      "For Learning Rate:  0.75\n",
      "0.845\n",
      "[[1492  208]\n",
      " [ 102  198]]\n",
      "(array([0.93601004, 0.48768473]), array([0.87764706, 0.66      ]), array([0.9058895 , 0.56090652]), array([1700,  300], dtype=int64))\n",
      "AUC Score 0.8315991000735518\n",
      "\n",
      "\n",
      "\n",
      "For Learning Rate:  1\n",
      "0.834\n",
      "[[1470  208]\n",
      " [ 124  198]]\n",
      "(array([0.92220828, 0.48768473]), array([0.87604291, 0.61490683]), array([0.89853301, 0.54395604]), array([1678,  322], dtype=int64))\n",
      "AUC Score 0.8206250656711436\n",
      "\n",
      "\n",
      "\n"
     ]
    },
    {
     "data": {
      "image/png": "[encoded data removed]",
      "text/plain": [
       "<Figure size 720x2160 with 6 Axes>"
      ]
     },
     "metadata": {},
     "output_type": "display_data"
    }
   ],
   "source": [
    "from sklearn.model_selection import GridSearchCV\n",
    "from sklearn.metrics import roc_curve\n",
    "import matplotlib.pyplot as plt\n",
    "from sklearn.metrics import auc\n",
    "from sklearn.metrics import accuracy_score, confusion_matrix, precision_recall_fscore_support\n",
    "plt.style.use('dark_background')\n",
    "params= [0.05, 0.1, 0.25, 0.5, 0.75, 1]\n",
    "fig, axes= plt.subplots(len(params), 1, figsize= (10, 30))\n",
    "ind= 0\n",
    "for k in params:\n",
    "    grad_model= GradientBoostingClassifier(learning_rate= k)\n",
    "    grad_model.fit(Xtrain, Ytrain)\n",
    "    preds= grad_model.predict(xtest)\n",
    "    print(\"For Learning Rate: \", k)\n",
    "    print(accuracy_score(preds, ytest))\n",
    "    print(confusion_matrix(preds, ytest))\n",
    "    print(precision_recall_fscore_support(preds, ytest))\n",
    "    fpr, tpr, thresholds = roc_curve(ytest, grad_model.decision_function(xtest))\n",
    "    roc_auc = auc(fpr, tpr)\n",
    "    print(\"AUC Score\", roc_auc)\n",
    "    axes[ind].plot(fpr, tpr, 'r-')\n",
    "    axes[ind].set_title(\"Learning Rate: %d\"%k)\n",
    "    ind+=1\n",
    "    print(end= '\\n\\n\\n')"
   ]
  },
  {
   "cell_type": "code",
   "execution_count": 40,
   "id": "87735ebf",
   "metadata": {},
   "outputs": [
    {
     "name": "stdout",
     "output_type": "stream",
     "text": [
      "Fitting 10 folds for each of 6 candidates, totalling 60 fits\n"
     ]
    },
    {
     "data": {
      "text/plain": [
       "GridSearchCV(cv=10, estimator=GradientBoostingClassifier(), n_jobs=-1,\n",
       "             param_grid={'learning_rate': [0.05, 0.1, 0.25, 0.5, 0.75, 1]},\n",
       "             scoring='accuracy', verbose=3)"
      ]
     },
     "execution_count": 40,
     "metadata": {},
     "output_type": "execute_result"
    }
   ],
   "source": [
    "grid_model.fit(X, y)"
   ]
  },
  {
   "cell_type": "code",
   "execution_count": 45,
   "id": "df36774f",
   "metadata": {},
   "outputs": [
    {
     "data": {
      "text/plain": [
       "GradientBoostingClassifier()"
      ]
     },
     "execution_count": 45,
     "metadata": {},
     "output_type": "execute_result"
    }
   ],
   "source": [
    "grid_model.best_estimator_"
   ]
  }
 ],
 "metadata": {
  "kernelspec": {
   "display_name": "Python 3",
   "language": "python",
   "name": "python3"
  },
  "language_info": {
   "codemirror_mode": {
    "name": "ipython",
    "version": 3
   },
   "file_extension": ".py",
   "mimetype": "text/x-python",
   "name": "python",
   "nbconvert_exporter": "python",
   "pygments_lexer": "ipython3",
   "version": "3.8.5"
  }
 },
 "nbformat": 4,
 "nbformat_minor": 5
}
